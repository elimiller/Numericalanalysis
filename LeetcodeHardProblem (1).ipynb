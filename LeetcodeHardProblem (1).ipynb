{
  "nbformat": 4,
  "nbformat_minor": 0,
  "metadata": {
    "colab": {
      "provenance": []
    },
    "kernelspec": {
      "name": "python3",
      "display_name": "Python 3"
    },
    "language_info": {
      "name": "python"
    }
  },
  "cells": [
    {
      "cell_type": "code",
      "execution_count": 45,
      "metadata": {
        "id": "vMhAqJ5AdpZe"
      },
      "outputs": [],
      "source": [
        "def isMatch(s,p):\n",
        "  if s == '' and p == '':\n",
        "    return True\n",
        "  elif p.find('*') != -1:\n",
        "    return True\n",
        "  elif len(s) !=  len(p):\n",
        "    return False\n",
        "  else:\n",
        "    for i in range(len(s)):\n",
        "      if s[i] != p[i] and p[i] != '?':\n",
        "        return False\n",
        "    else:\n",
        "      return True\n"
      ]
    },
    {
      "cell_type": "code",
      "source": [
        "s = \"\""
      ],
      "metadata": {
        "id": "Zre6T0LGeWUH"
      },
      "execution_count": 40,
      "outputs": []
    },
    {
      "cell_type": "code",
      "source": [
        "p = \"\""
      ],
      "metadata": {
        "id": "qPP1vWbMepkR"
      },
      "execution_count": null,
      "outputs": []
    },
    {
      "cell_type": "code",
      "source": [
        "isMatch('hello','hel?o')"
      ],
      "metadata": {
        "id": "xlnBcDIDgfp4",
        "colab": {
          "base_uri": "https://localhost:8080/"
        },
        "outputId": "51b07d15-adf5-426e-c179-eefbe6d7741d"
      },
      "execution_count": 47,
      "outputs": [
        {
          "output_type": "execute_result",
          "data": {
            "text/plain": [
              "True"
            ]
          },
          "metadata": {},
          "execution_count": 47
        }
      ]
    },
    {
      "cell_type": "code",
      "source": [
        "isMatch('','') #Matches empty list"
      ],
      "metadata": {
        "id": "5Uofi12Xk-fE",
        "colab": {
          "base_uri": "https://localhost:8080/"
        },
        "outputId": "07ed3ed7-807b-4ede-faa9-7618a9919ec5"
      },
      "execution_count": 53,
      "outputs": [
        {
          "output_type": "execute_result",
          "data": {
            "text/plain": [
              "True"
            ]
          },
          "metadata": {},
          "execution_count": 53
        }
      ]
    },
    {
      "cell_type": "code",
      "source": [
        "isMatch('','eudd8*') #Star Matches empty list"
      ],
      "metadata": {
        "colab": {
          "base_uri": "https://localhost:8080/"
        },
        "id": "bKil_a8kmqUj",
        "outputId": "dd53dedb-9bea-4a9c-d776-7aa1f2bbc385"
      },
      "execution_count": 55,
      "outputs": [
        {
          "output_type": "execute_result",
          "data": {
            "text/plain": [
              "True"
            ]
          },
          "metadata": {},
          "execution_count": 55
        }
      ]
    },
    {
      "cell_type": "code",
      "source": [
        "isMatch('hdicdijsovu','hd?cd?js?vu') #Supposed to be true"
      ],
      "metadata": {
        "colab": {
          "base_uri": "https://localhost:8080/"
        },
        "id": "jdU8Xtmmimnc",
        "outputId": "b9d9fcf0-fdc2-4623-c8a4-cfe5a2f4d736"
      },
      "execution_count": 49,
      "outputs": [
        {
          "output_type": "execute_result",
          "data": {
            "text/plain": [
              "True"
            ]
          },
          "metadata": {},
          "execution_count": 49
        }
      ]
    },
    {
      "cell_type": "code",
      "source": [
        "isMatch('hdicmijsopu','h?icdijs?vu') #Supposed to be false"
      ],
      "metadata": {
        "colab": {
          "base_uri": "https://localhost:8080/"
        },
        "id": "kJOv3MIGjLHz",
        "outputId": "5a5f6560-8390-457e-cd46-06ff3d8ab565"
      },
      "execution_count": 50,
      "outputs": [
        {
          "output_type": "execute_result",
          "data": {
            "text/plain": [
              "False"
            ]
          },
          "metadata": {},
          "execution_count": 50
        }
      ]
    },
    {
      "cell_type": "code",
      "source": [
        "isMatch('cb','?a') #Supposed to be false"
      ],
      "metadata": {
        "colab": {
          "base_uri": "https://localhost:8080/"
        },
        "id": "Y1LSVC7AjUxK",
        "outputId": "aacdf593-5d4b-419f-de46-460a6dd5b323"
      },
      "execution_count": 51,
      "outputs": [
        {
          "output_type": "execute_result",
          "data": {
            "text/plain": [
              "False"
            ]
          },
          "metadata": {},
          "execution_count": 51
        }
      ]
    },
    {
      "cell_type": "code",
      "source": [
        "isMatch('hello','hex*o') #Supposed to be true, the * symbol in P should return True in all cases as I interpreted it from questuon."
      ],
      "metadata": {
        "colab": {
          "base_uri": "https://localhost:8080/"
        },
        "id": "GNahHX27j5qQ",
        "outputId": "8c0a1c3f-33b5-4f07-e68f-4230c6bda6c6"
      },
      "execution_count": 52,
      "outputs": [
        {
          "output_type": "execute_result",
          "data": {
            "text/plain": [
              "True"
            ]
          },
          "metadata": {},
          "execution_count": 52
        }
      ]
    },
    {
      "cell_type": "code",
      "source": [],
      "metadata": {
        "id": "WQZr0Kn1mKDZ"
      },
      "execution_count": null,
      "outputs": []
    }
  ]
}