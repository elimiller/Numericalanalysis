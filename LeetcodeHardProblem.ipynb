{
  "cells": [
    {
      "cell_type": "code",
      "execution_count": 1,
      "metadata": {
        "id": "vMhAqJ5AdpZe"
      },
      "outputs": [],
      "source": [
        "# https://leetcode.com/problems/wildcard-matching/description/\n",
        "# One thing they didn't specify - can you use regular expressions\n",
        "# It's great to do without regular expressions first, then see how much\n",
        "# regular expressions can help if any.\n",
        "\n",
        "def isMatch(s,p):\n",
        "  if p.find('*') != -1:\n",
        "    return True\n",
        "  elif len(s) !=  len(p):\n",
        "    return False\n",
        "  else:\n",
        "    for i in range(len(s)):\n",
        "      if s[i] != p[i] and p[i] != '?':\n",
        "        return False\n",
        "\n"
      ]
    },
    {
      "cell_type": "code",
      "execution_count": 4,
      "metadata": {
        "id": "Zre6T0LGeWUH"
      },
      "outputs": [
        {
          "name": "stdout",
          "output_type": "stream",
          "text": [
            "Should be False: value =  True\n"
          ]
        }
      ],
      "source": [
        "#I think this is suppose to false:\n",
        "print(\"Should be False. value = \", isMatch('hello', 'hex*o'))"
      ]
    },
    {
      "cell_type": "code",
      "execution_count": 5,
      "metadata": {
        "id": "qPP1vWbMepkR"
      },
      "outputs": [
        {
          "name": "stdout",
          "output_type": "stream",
          "text": [
            "Should be True.  value =  None\n"
          ]
        }
      ],
      "source": [
        "print(\"Should be True.  value = \", isMatch('hello', 'hel?o'))"
      ]
    },
    {
      "cell_type": "code",
      "execution_count": 6,
      "metadata": {
        "id": "uJwiByKSesSn"
      },
      "outputs": [
        {
          "name": "stdout",
          "output_type": "stream",
          "text": [
            "Should be True. value =  True\n"
          ]
        }
      ],
      "source": [
        "print(\"Should be True. value = \", isMatch('helicopter', 'hel*opter'))"
      ]
    },
    {
      "cell_type": "code",
      "execution_count": 28,
      "metadata": {
        "id": "_xq_3tNjeuD1"
      },
      "outputs": [],
      "source": [
        "stringtest = 'hidadvjnifdsinvo'"
      ]
    },
    {
      "cell_type": "code",
      "execution_count": 5,
      "metadata": {
        "colab": {
          "base_uri": "https://localhost:8080/"
        },
        "id": "Ed-4PVKQf3_r",
        "outputId": "c30439f5-71b9-4f25-b588-1be0a694c7fb"
      },
      "outputs": [
        {
          "ename": "NameError",
          "evalue": "name 'stringtest' is not defined",
          "output_type": "error",
          "traceback": [
            "\u001b[0;31m---------------------------------------------------------------------------\u001b[0m",
            "\u001b[0;31mNameError\u001b[0m                                 Traceback (most recent call last)",
            "Cell \u001b[0;32mIn[5], line 1\u001b[0m\n\u001b[0;32m----> 1\u001b[0m \u001b[43mstringtest\u001b[49m\u001b[38;5;241m.\u001b[39mfind(\u001b[38;5;124m'\u001b[39m\u001b[38;5;124mvo\u001b[39m\u001b[38;5;124m'\u001b[39m)\n",
            "\u001b[0;31mNameError\u001b[0m: name 'stringtest' is not defined"
          ]
        }
      ],
      "source": [
        "stringtest.find('vo')"
      ]
    },
    {
      "cell_type": "code",
      "execution_count": 42,
      "metadata": {
        "id": "xlnBcDIDgfp4"
      },
      "outputs": [],
      "source": []
    },
    {
      "cell_type": "code",
      "execution_count": null,
      "metadata": {
        "id": "5Uofi12Xk-fE"
      },
      "outputs": [],
      "source": []
    }
  ],
  "metadata": {
    "colab": {
      "provenance": []
    },
    "kernelspec": {
      "display_name": "Python 3 (ipykernel)",
      "language": "python",
      "name": "python3"
    },
    "language_info": {
      "codemirror_mode": {
        "name": "ipython",
        "version": 3
      },
      "file_extension": ".py",
      "mimetype": "text/x-python",
      "name": "python",
      "nbconvert_exporter": "python",
      "pygments_lexer": "ipython3",
      "version": "3.12.1"
    }
  },
  "nbformat": 4,
  "nbformat_minor": 0
}
