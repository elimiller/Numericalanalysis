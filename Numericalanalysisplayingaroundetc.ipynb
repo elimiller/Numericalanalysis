{
  "nbformat": 4,
  "nbformat_minor": 0,
  "metadata": {
    "colab": {
      "provenance": []
    },
    "kernelspec": {
      "name": "python3",
      "display_name": "Python 3"
    },
    "language_info": {
      "name": "python"
    }
  },
  "cells": [
    {
      "cell_type": "code",
      "execution_count": 2,
      "metadata": {
        "id": "B88GJ9_fK5wN"
      },
      "outputs": [],
      "source": [
        "def machineps():\n",
        "  i = 1\n",
        "  while 1 + i != 1:\n",
        "    i /= 2\n",
        "  return i"
      ]
    },
    {
      "cell_type": "code",
      "source": [
        " x = machineps()"
      ],
      "metadata": {
        "id": "DiRALWESLJ1H"
      },
      "execution_count": 3,
      "outputs": []
    },
    {
      "cell_type": "code",
      "source": [],
      "metadata": {
        "id": "WW6DFQimLVr5"
      },
      "execution_count": 3,
      "outputs": []
    },
    {
      "cell_type": "code",
      "source": [
        "0.1 +0.2"
      ],
      "metadata": {
        "colab": {
          "base_uri": "https://localhost:8080/"
        },
        "id": "CiJGk0DhLbUG",
        "outputId": "752cd9b7-6a3e-4e1b-8980-3008501504d7"
      },
      "execution_count": 4,
      "outputs": [
        {
          "output_type": "execute_result",
          "data": {
            "text/plain": [
              "0.30000000000000004"
            ]
          },
          "metadata": {},
          "execution_count": 4
        }
      ]
    },
    {
      "cell_type": "code",
      "source": [
        "def uhhhokayilldothis():\n",
        "  i = x\n",
        "  while 2**20 + i == 2**20:\n",
        "    i *= 2\n",
        "  return i"
      ],
      "metadata": {
        "id": "NJYPXoNWLdcc"
      },
      "execution_count": 5,
      "outputs": []
    },
    {
      "cell_type": "code",
      "source": [
        "uhhhokayilldothis()"
      ],
      "metadata": {
        "colab": {
          "base_uri": "https://localhost:8080/"
        },
        "id": "yxZM_dKAMYwi",
        "outputId": "17e9181e-cf32-4693-c0a6-8a405f040df6"
      },
      "execution_count": 6,
      "outputs": [
        {
          "output_type": "execute_result",
          "data": {
            "text/plain": [
              "2.3283064365386963e-10"
            ]
          },
          "metadata": {},
          "execution_count": 6
        }
      ]
    },
    {
      "cell_type": "code",
      "source": [
        "print(x)"
      ],
      "metadata": {
        "colab": {
          "base_uri": "https://localhost:8080/"
        },
        "id": "pSula0sxMadG",
        "outputId": "ea00a060-00ec-47f3-b48f-7592d447a805"
      },
      "execution_count": 7,
      "outputs": [
        {
          "output_type": "stream",
          "name": "stdout",
          "text": [
            "1.1102230246251565e-16\n"
          ]
        }
      ]
    },
    {
      "cell_type": "code",
      "source": [],
      "metadata": {
        "id": "fd7hgUbkuNTh"
      },
      "execution_count": null,
      "outputs": []
    },
    {
      "cell_type": "code",
      "source": [
        "def generatelist(n):\n",
        "  randomlist = []\n",
        "  for i in range(n):\n",
        "    random_value = random.random()\n",
        "    randomlist.append(random_value)\n",
        "  return randomlist"
      ],
      "metadata": {
        "id": "x-sbKsMZ1DKN"
      },
      "execution_count": 27,
      "outputs": []
    },
    {
      "cell_type": "code",
      "source": [
        "def boystogirls(n):\n",
        "  mylist = generatelist(n)\n",
        "  boys = 0\n",
        "  girls = 0\n",
        "  for i in range(n):\n",
        "    if mylist[i] == 0.5:\n",
        "      continue\n",
        "    elif mylist[i] < 0.5:\n",
        "      boys += 1\n",
        "      i += 1\n",
        "    elif mylist[i] > 0.5:\n",
        "      girls += 1\n",
        "  return girls/boys"
      ],
      "metadata": {
        "id": "RjrlwsJ32Dqx"
      },
      "execution_count": 32,
      "outputs": []
    },
    {
      "cell_type": "code",
      "source": [
        "import random"
      ],
      "metadata": {
        "id": "4Bnljnk8p-8W"
      },
      "execution_count": 13,
      "outputs": []
    },
    {
      "cell_type": "code",
      "source": [
        "boystogirls(1000)"
      ],
      "metadata": {
        "colab": {
          "base_uri": "https://localhost:8080/"
        },
        "id": "3LWQ7aSypc86",
        "outputId": "e1cbf463-49b6-462a-d686-fee9e578b3d0"
      },
      "execution_count": 56,
      "outputs": [
        {
          "output_type": "execute_result",
          "data": {
            "text/plain": [
              "1.02020202020202"
            ]
          },
          "metadata": {},
          "execution_count": 56
        }
      ]
    },
    {
      "cell_type": "code",
      "source": [
        "randomlist"
      ],
      "metadata": {
        "colab": {
          "base_uri": "https://localhost:8080/"
        },
        "id": "toSsEYUdsuZW",
        "outputId": "53833f74-6c1f-49e5-c137-25d2ab2fc27a"
      },
      "execution_count": 47,
      "outputs": [
        {
          "output_type": "execute_result",
          "data": {
            "text/plain": [
              "[0.21704298189199767,\n",
              " 0.06592400762090533,\n",
              " 0.9397385026723428,\n",
              " 0.022696648286936405,\n",
              " 0.7576132627769443]"
            ]
          },
          "metadata": {},
          "execution_count": 47
        }
      ]
    },
    {
      "cell_type": "code",
      "source": [],
      "metadata": {
        "id": "yNOb5Kjcuty9"
      },
      "execution_count": null,
      "outputs": []
    }
  ]
}